{
 "cells": [
  {
   "cell_type": "code",
   "execution_count": 14,
   "metadata": {},
   "outputs": [],
   "source": [
    "import numpy as np\n",
    "import matplotlib.pyplot as plt"
   ]
  },
  {
   "cell_type": "code",
   "execution_count": 225,
   "metadata": {},
   "outputs": [],
   "source": [
    "colors = np.array([(255, 102, 102), (255, 140, 102), (255, 179, 102), (255, 217, 102), (255, 255, 102), (217, 255, 102), \n",
    "                  (179, 255, 102), (140, 255, 102), (102, 255, 102), (102, 255, 140), (102, 255, 179), (102, 255, 217), \n",
    "                  (102, 255, 255), (102, 217, 255), (102, 204, 255), (102, 179, 255), (102, 140, 255), (102, 102, 255), \n",
    "                  (140, 102, 255), (179, 102, 255), (217, 102, 255), (255, 102, 255), (255, 102, 217), (255, 102, 179), \n",
    "                  (255, 102, 140), (255, 102, 102)])/255"
   ]
  },
  {
   "cell_type": "code",
   "execution_count": 16,
   "metadata": {},
   "outputs": [
    {
     "data": {
      "text/plain": [
       "<matplotlib.image.AxesImage at 0x2ac5854a320>"
      ]
     },
     "execution_count": 16,
     "metadata": {},
     "output_type": "execute_result"
    },
    {
     "data": {
      "image/png": "[encoded data removed]",
      "text/plain": [
       "<Figure size 432x288 with 1 Axes>"
      ]
     },
     "metadata": {},
     "output_type": "display_data"
    }
   ],
   "source": [
    "row = 6\n",
    "column = 6\n",
    "step = 50\n",
    "\n",
    "img = np.zeros((row*step, column*step, 4), 'float32')\n",
    "\n",
    "for i in range(row):\n",
    "    for j in range(column):\n",
    "        img[i*step:(i+1)*step, j*step:(j+1)*step, 0:3] = colors[np.random.randint(colors.shape[0]), :]\n",
    "        img[i*step:(i+1)*step, j*step:(j+1)*step, 3] = 0.5\n",
    "\n",
    "for k in range(5):\n",
    "    r = np.random.randint(row)\n",
    "    c = np.random.randint(column)\n",
    "    img[r*step:(r+1)*step, c*step:(c+1)*step, 3] = 0\n",
    "plt.imshow(img)"
   ]
  },
  {
   "cell_type": "code",
   "execution_count": 287,
   "metadata": {},
   "outputs": [],
   "source": [
    "plt.imsave('randcolor.png', img)"
   ]
  },
  {
   "cell_type": "code",
   "execution_count": 579,
   "metadata": {},
   "outputs": [
    {
     "data": {
      "text/plain": [
       "<matplotlib.image.AxesImage at 0x2ac1950a5c0>"
      ]
     },
     "execution_count": 579,
     "metadata": {},
     "output_type": "execute_result"
    },
    {
     "data": {
      "image/png": "[encoded data removed]",
      "text/plain": [
       "<Figure size 432x288 with 1 Axes>"
      ]
     },
     "metadata": {},
     "output_type": "display_data"
    }
   ],
   "source": [
    "block_num = 10\n",
    "r = 50\n",
    "c = 50\n",
    "img = np.zeros((r, c, 4), 'float32')\n",
    "\n",
    "for i in range(block_num):\n",
    "    r_position = np.random.randint(0, r)\n",
    "    c_position = np.random.randint(0, c)\n",
    "    height = np.random.randint(0, r-r_position)\n",
    "    length = np.random.randint(0, c-c_position)\n",
    "    \n",
    "    color_index = np.random.randint(colors.shape[0])\n",
    "    img[r_position : r_position+height, c_position : c_position+length, 0:3] += colors[color_index, :]\n",
    "    img[r_position : r_position+height, c_position : c_position+length, 3] = np.random.randn() % 1\n",
    "\n",
    "img[:, :, 0:3] %= 1\n",
    "plt.imshow(img)"
   ]
  },
  {
   "cell_type": "code",
   "execution_count": 580,
   "metadata": {},
   "outputs": [],
   "source": [
    "plt.imsave('randsquare.png', img)"
   ]
  }
 ],
 "metadata": {
  "kernelspec": {
   "display_name": "Python 3",
   "language": "python",
   "name": "python3"
  },
  "language_info": {
   "codemirror_mode": {
    "name": "ipython",
    "version": 3
   },
   "file_extension": ".py",
   "mimetype": "text/x-python",
   "name": "python",
   "nbconvert_exporter": "python",
   "pygments_lexer": "ipython3",
   "version": "3.6.5"
  }
 },
 "nbformat": 4,
 "nbformat_minor": 2
}
